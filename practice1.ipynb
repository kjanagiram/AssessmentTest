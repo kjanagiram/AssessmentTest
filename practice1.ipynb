{
 "cells": [
  {
   "cell_type": "code",
   "execution_count": 1,
   "metadata": {},
   "outputs": [
    {
     "name": "stdout",
     "output_type": "stream",
     "text": [
      "hello\n"
     ]
    }
   ],
   "source": [
    "print('hello')"
   ]
  },
  {
   "cell_type": "code",
   "execution_count": 11,
   "metadata": {},
   "outputs": [
    {
     "name": "stdout",
     "output_type": "stream",
     "text": [
      "f-string test   0.129\n"
     ]
    }
   ],
   "source": [
    "#f-formatted - introduced in python 3.6. directly mention variable name inside the print statement\n",
    "sal=100/777\n",
    "print(f'f-string test {sal:7.3f}')"
   ]
  },
  {
   "cell_type": "code",
   "execution_count": 31,
   "metadata": {},
   "outputs": [
    {
     "name": "stdout",
     "output_type": "stream",
     "text": [
      "My name is janaki raman\n",
      "My name is janaki and age is 20 and salary is 52.04\n",
      "My name is janaki and age is 20 and salary is 52.04\n",
      "My name is janaki and age is 20 and salary is 52.04\n"
     ]
    }
   ],
   "source": [
    "#foramt() - used for formatted string \n",
    "\n",
    "name=\"janaki\"\n",
    "age =20\n",
    "sal=52.04\n",
    "print(\"My name is {0} raman\".format(name))\n",
    "print(\"My name is {} and age is {} and salary is {}\".format(name, age,sal))\n",
    "print(\"My name is {0} and age is {1} and salary is {2}\".format(name, age,sal)) #- we can interchange the index values 0,1,2\n",
    "print(\"My name is {n} and age is {a} and salary is {s}\".format(n=name, a=age,s=sal)) #here we used like a variable name such as n, a,s"
   ]
  },
  {
   "cell_type": "code",
   "execution_count": 19,
   "metadata": {},
   "outputs": [
    {
     "data": {
      "text/plain": [
       "'Hello World'"
      ]
     },
     "execution_count": 19,
     "metadata": {},
     "output_type": "execute_result"
    }
   ],
   "source": [
    "#slicinig\n",
    "s=\"Hello World\"\n",
    "s"
   ]
  },
  {
   "cell_type": "code",
   "execution_count": 20,
   "metadata": {},
   "outputs": [
    {
     "data": {
      "text/plain": [
       "'Hello World'"
      ]
     },
     "execution_count": 20,
     "metadata": {},
     "output_type": "execute_result"
    }
   ],
   "source": [
    "#s[::] - means start to end\n",
    "s[::]"
   ]
  },
  {
   "cell_type": "code",
   "execution_count": 21,
   "metadata": {},
   "outputs": [
    {
     "data": {
      "text/plain": [
       "'ell'"
      ]
     },
     "execution_count": 21,
     "metadata": {},
     "output_type": "execute_result"
    }
   ],
   "source": [
    "#s[start:end]\n",
    "s[1:4]"
   ]
  },
  {
   "cell_type": "code",
   "execution_count": 24,
   "metadata": {},
   "outputs": [
    {
     "data": {
      "text/plain": [
       "'el '"
      ]
     },
     "execution_count": 24,
     "metadata": {},
     "output_type": "execute_result"
    }
   ],
   "source": [
    "#s[start:end:step] => start-1, end-6, step-2\n",
    "s[1:6:2]"
   ]
  },
  {
   "cell_type": "code",
   "execution_count": 52,
   "metadata": {},
   "outputs": [
    {
     "name": "stdout",
     "output_type": "stream",
     "text": [
      "Fruit    | Quantity  \n",
      "Apples   |        3.0\n",
      "Oranges  |         10\n"
     ]
    }
   ],
   "source": [
    "print('{0:8} | {1:10}'.format('Fruit', 'Quantity'))\n",
    "print('{0:8} | {1:10}'.format('Apples', 3.))\n",
    "print('{0:8} | {1:10}'.format('Oranges', 10))"
   ]
  },
  {
   "cell_type": "code",
   "execution_count": 53,
   "metadata": {},
   "outputs": [
    {
     "data": {
      "text/plain": [
       "'C:\\\\Users\\\\SKR'"
      ]
     },
     "execution_count": 53,
     "metadata": {},
     "output_type": "execute_result"
    }
   ],
   "source": [
    "pwd"
   ]
  },
  {
   "cell_type": "code",
   "execution_count": null,
   "metadata": {},
   "outputs": [],
   "source": []
  }
 ],
 "metadata": {
  "kernelspec": {
   "display_name": "Python 3",
   "language": "python",
   "name": "python3"
  },
  "language_info": {
   "codemirror_mode": {
    "name": "ipython",
    "version": 3
   },
   "file_extension": ".py",
   "mimetype": "text/x-python",
   "name": "python",
   "nbconvert_exporter": "python",
   "pygments_lexer": "ipython3",
   "version": "3.6.4"
  }
 },
 "nbformat": 4,
 "nbformat_minor": 2
}
